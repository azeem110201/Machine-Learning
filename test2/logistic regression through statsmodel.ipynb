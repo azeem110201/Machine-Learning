{
 "cells": [
  {
   "cell_type": "code",
   "execution_count": 10,
   "metadata": {},
   "outputs": [],
   "source": [
    "import numpy as np\n",
    "import pandas as pd\n",
    "import matplotlib.pyplot as plt\n",
    "import sklearn.linear_model as LinearRegression\n",
    "import seaborn as sns\n",
    "import statsmodels.api as sm\n",
    "\n",
    "sns.set()\n",
    "\n",
    "from scipy import stats\n",
    "stats.chisqprob = lambda chisq, df: stats.chi2.sf(chisq.df)"
   ]
  },
  {
   "cell_type": "code",
   "execution_count": 11,
   "metadata": {},
   "outputs": [],
   "source": [
    "raw_data = pd.read_csv('Bank_data.csv')"
   ]
  },
  {
   "cell_type": "code",
   "execution_count": 12,
   "metadata": {},
   "outputs": [
    {
     "data": {
      "text/html": [
       "<div>\n",
       "<style scoped>\n",
       "    .dataframe tbody tr th:only-of-type {\n",
       "        vertical-align: middle;\n",
       "    }\n",
       "\n",
       "    .dataframe tbody tr th {\n",
       "        vertical-align: top;\n",
       "    }\n",
       "\n",
       "    .dataframe thead th {\n",
       "        text-align: right;\n",
       "    }\n",
       "</style>\n",
       "<table border=\"1\" class=\"dataframe\">\n",
       "  <thead>\n",
       "    <tr style=\"text-align: right;\">\n",
       "      <th></th>\n",
       "      <th>Unnamed: 0</th>\n",
       "      <th>interest_rate</th>\n",
       "      <th>credit</th>\n",
       "      <th>march</th>\n",
       "      <th>may</th>\n",
       "      <th>previous</th>\n",
       "      <th>duration</th>\n",
       "      <th>y</th>\n",
       "    </tr>\n",
       "  </thead>\n",
       "  <tbody>\n",
       "    <tr>\n",
       "      <td>0</td>\n",
       "      <td>0</td>\n",
       "      <td>1.334</td>\n",
       "      <td>0.0</td>\n",
       "      <td>1.0</td>\n",
       "      <td>0.0</td>\n",
       "      <td>0.0</td>\n",
       "      <td>117.0</td>\n",
       "      <td>no</td>\n",
       "    </tr>\n",
       "    <tr>\n",
       "      <td>1</td>\n",
       "      <td>1</td>\n",
       "      <td>0.767</td>\n",
       "      <td>0.0</td>\n",
       "      <td>0.0</td>\n",
       "      <td>2.0</td>\n",
       "      <td>1.0</td>\n",
       "      <td>274.0</td>\n",
       "      <td>yes</td>\n",
       "    </tr>\n",
       "    <tr>\n",
       "      <td>2</td>\n",
       "      <td>2</td>\n",
       "      <td>4.858</td>\n",
       "      <td>0.0</td>\n",
       "      <td>1.0</td>\n",
       "      <td>0.0</td>\n",
       "      <td>0.0</td>\n",
       "      <td>167.0</td>\n",
       "      <td>no</td>\n",
       "    </tr>\n",
       "    <tr>\n",
       "      <td>3</td>\n",
       "      <td>3</td>\n",
       "      <td>4.120</td>\n",
       "      <td>0.0</td>\n",
       "      <td>0.0</td>\n",
       "      <td>0.0</td>\n",
       "      <td>0.0</td>\n",
       "      <td>686.0</td>\n",
       "      <td>yes</td>\n",
       "    </tr>\n",
       "    <tr>\n",
       "      <td>4</td>\n",
       "      <td>4</td>\n",
       "      <td>4.856</td>\n",
       "      <td>0.0</td>\n",
       "      <td>1.0</td>\n",
       "      <td>0.0</td>\n",
       "      <td>0.0</td>\n",
       "      <td>157.0</td>\n",
       "      <td>no</td>\n",
       "    </tr>\n",
       "  </tbody>\n",
       "</table>\n",
       "</div>"
      ],
      "text/plain": [
       "   Unnamed: 0  interest_rate  credit  march  may  previous  duration    y\n",
       "0           0          1.334     0.0    1.0  0.0       0.0     117.0   no\n",
       "1           1          0.767     0.0    0.0  2.0       1.0     274.0  yes\n",
       "2           2          4.858     0.0    1.0  0.0       0.0     167.0   no\n",
       "3           3          4.120     0.0    0.0  0.0       0.0     686.0  yes\n",
       "4           4          4.856     0.0    1.0  0.0       0.0     157.0   no"
      ]
     },
     "execution_count": 12,
     "metadata": {},
     "output_type": "execute_result"
    }
   ],
   "source": [
    "raw_data.head()"
   ]
  },
  {
   "cell_type": "code",
   "execution_count": 13,
   "metadata": {},
   "outputs": [],
   "source": [
    "raw_data['y'] = raw_data['y'].map({'yes':1,'no':0})"
   ]
  },
  {
   "cell_type": "code",
   "execution_count": 14,
   "metadata": {},
   "outputs": [],
   "source": [
    "y = pd.DataFrame(raw_data.iloc[:,-1])\n",
    "x1 = pd.DataFrame(raw_data.iloc[:,1:-1])"
   ]
  },
  {
   "cell_type": "code",
   "execution_count": 15,
   "metadata": {},
   "outputs": [
    {
     "name": "stdout",
     "output_type": "stream",
     "text": [
      "Optimization terminated successfully.\n",
      "         Current function value: 0.335942\n",
      "         Iterations 7\n"
     ]
    }
   ],
   "source": [
    "x = sm.add_constant(x1)\n",
    "reg_res = sm.Logit(y,x).fit()"
   ]
  },
  {
   "cell_type": "code",
   "execution_count": 16,
   "metadata": {},
   "outputs": [
    {
     "data": {
      "text/html": [
       "<table class=\"simpletable\">\n",
       "<caption>Logit Regression Results</caption>\n",
       "<tr>\n",
       "  <th>Dep. Variable:</th>           <td>y</td>        <th>  No. Observations:  </th>  <td>   518</td>  \n",
       "</tr>\n",
       "<tr>\n",
       "  <th>Model:</th>                 <td>Logit</td>      <th>  Df Residuals:      </th>  <td>   511</td>  \n",
       "</tr>\n",
       "<tr>\n",
       "  <th>Method:</th>                 <td>MLE</td>       <th>  Df Model:          </th>  <td>     6</td>  \n",
       "</tr>\n",
       "<tr>\n",
       "  <th>Date:</th>            <td>Wed, 29 Jan 2020</td> <th>  Pseudo R-squ.:     </th>  <td>0.5153</td>  \n",
       "</tr>\n",
       "<tr>\n",
       "  <th>Time:</th>                <td>10:44:38</td>     <th>  Log-Likelihood:    </th> <td> -174.02</td> \n",
       "</tr>\n",
       "<tr>\n",
       "  <th>converged:</th>             <td>True</td>       <th>  LL-Null:           </th> <td> -359.05</td> \n",
       "</tr>\n",
       "<tr>\n",
       "  <th>Covariance Type:</th>     <td>nonrobust</td>    <th>  LLR p-value:       </th> <td>7.579e-77</td>\n",
       "</tr>\n",
       "</table>\n",
       "<table class=\"simpletable\">\n",
       "<tr>\n",
       "        <td></td>           <th>coef</th>     <th>std err</th>      <th>z</th>      <th>P>|z|</th>  <th>[0.025</th>    <th>0.975]</th>  \n",
       "</tr>\n",
       "<tr>\n",
       "  <th>const</th>         <td>   -0.1385</td> <td>    0.339</td> <td>   -0.408</td> <td> 0.683</td> <td>   -0.804</td> <td>    0.527</td>\n",
       "</tr>\n",
       "<tr>\n",
       "  <th>interest_rate</th> <td>   -0.7802</td> <td>    0.092</td> <td>   -8.471</td> <td> 0.000</td> <td>   -0.961</td> <td>   -0.600</td>\n",
       "</tr>\n",
       "<tr>\n",
       "  <th>credit</th>        <td>    2.4028</td> <td>    1.090</td> <td>    2.205</td> <td> 0.027</td> <td>    0.267</td> <td>    4.538</td>\n",
       "</tr>\n",
       "<tr>\n",
       "  <th>march</th>         <td>   -1.8097</td> <td>    0.332</td> <td>   -5.459</td> <td> 0.000</td> <td>   -2.459</td> <td>   -1.160</td>\n",
       "</tr>\n",
       "<tr>\n",
       "  <th>may</th>           <td>    0.1946</td> <td>    0.229</td> <td>    0.849</td> <td> 0.396</td> <td>   -0.255</td> <td>    0.644</td>\n",
       "</tr>\n",
       "<tr>\n",
       "  <th>previous</th>      <td>    1.2746</td> <td>    0.583</td> <td>    2.186</td> <td> 0.029</td> <td>    0.132</td> <td>    2.417</td>\n",
       "</tr>\n",
       "<tr>\n",
       "  <th>duration</th>      <td>    0.0070</td> <td>    0.001</td> <td>    9.386</td> <td> 0.000</td> <td>    0.006</td> <td>    0.008</td>\n",
       "</tr>\n",
       "</table>"
      ],
      "text/plain": [
       "<class 'statsmodels.iolib.summary.Summary'>\n",
       "\"\"\"\n",
       "                           Logit Regression Results                           \n",
       "==============================================================================\n",
       "Dep. Variable:                      y   No. Observations:                  518\n",
       "Model:                          Logit   Df Residuals:                      511\n",
       "Method:                           MLE   Df Model:                            6\n",
       "Date:                Wed, 29 Jan 2020   Pseudo R-squ.:                  0.5153\n",
       "Time:                        10:44:38   Log-Likelihood:                -174.02\n",
       "converged:                       True   LL-Null:                       -359.05\n",
       "Covariance Type:            nonrobust   LLR p-value:                 7.579e-77\n",
       "=================================================================================\n",
       "                    coef    std err          z      P>|z|      [0.025      0.975]\n",
       "---------------------------------------------------------------------------------\n",
       "const            -0.1385      0.339     -0.408      0.683      -0.804       0.527\n",
       "interest_rate    -0.7802      0.092     -8.471      0.000      -0.961      -0.600\n",
       "credit            2.4028      1.090      2.205      0.027       0.267       4.538\n",
       "march            -1.8097      0.332     -5.459      0.000      -2.459      -1.160\n",
       "may               0.1946      0.229      0.849      0.396      -0.255       0.644\n",
       "previous          1.2746      0.583      2.186      0.029       0.132       2.417\n",
       "duration          0.0070      0.001      9.386      0.000       0.006       0.008\n",
       "=================================================================================\n",
       "\"\"\""
      ]
     },
     "execution_count": 16,
     "metadata": {},
     "output_type": "execute_result"
    }
   ],
   "source": [
    "reg_res.summary()"
   ]
  },
  {
   "cell_type": "code",
   "execution_count": 17,
   "metadata": {},
   "outputs": [
    {
     "data": {
      "text/plain": [
       "array([0.10, 0.94, 0.01, 0.81, 0.01, 0.56, 0.03, 0.00, 0.71, 0.07, 0.95,\n",
       "       0.47, 0.90, 0.10, 0.08, 0.81, 0.88, 0.84, 0.36, 0.76, 0.97, 0.88,\n",
       "       0.13, 0.10, 0.63, 0.08, 0.79, 0.75, 0.89, 0.04, 0.02, 0.12, 0.28,\n",
       "       0.74, 0.06, 0.01, 0.99, 0.06, 1.00, 0.53, 0.06, 0.83, 0.06, 0.01,\n",
       "       0.85, 0.57, 0.00, 0.14, 0.15, 0.81, 0.72, 0.05, 0.03, 0.05, 0.01,\n",
       "       0.84, 0.09, 0.83, 0.98, 0.82, 0.04, 0.11, 0.99, 0.75, 0.16, 0.30,\n",
       "       0.05, 0.06, 1.00, 0.08, 0.02, 0.77, 0.14, 0.97, 0.88, 0.12, 0.65,\n",
       "       0.05, 0.01, 0.03, 0.90, 0.84, 0.89, 0.13, 0.22, 0.98, 0.62, 0.85,\n",
       "       0.72, 0.03, 0.08, 0.03, 0.69, 0.62, 0.94, 0.98, 0.97, 0.03, 0.98,\n",
       "       0.06, 0.99, 0.07, 0.99, 0.67, 0.28, 0.35, 0.19, 0.68, 0.78, 0.03,\n",
       "       0.99, 0.44, 0.17, 0.06, 0.93, 0.02, 0.04, 0.89, 0.49, 0.14, 0.10,\n",
       "       0.00, 0.93, 1.00, 0.32, 0.98, 0.93, 0.86, 0.72, 0.65, 0.05, 0.25,\n",
       "       0.80, 0.80, 0.85, 0.09, 0.22, 0.72, 0.11, 0.01, 0.01, 0.01, 0.24,\n",
       "       0.78, 0.23, 1.00, 0.22, 0.01, 1.00, 0.61, 0.71, 0.45, 0.96, 0.86,\n",
       "       0.05, 0.88, 0.59, 0.98, 0.95, 0.99, 0.96, 0.83, 0.87, 0.10, 0.76,\n",
       "       0.20, 0.06, 0.48, 0.10, 0.22, 0.58, 0.96, 0.94, 0.05, 0.05, 0.98,\n",
       "       0.75, 0.87, 0.90, 0.99, 0.17, 0.12, 0.11, 0.84, 0.04, 0.07, 0.00,\n",
       "       0.03, 1.00, 0.69, 0.66, 0.41, 0.09, 0.71, 0.88, 0.02, 0.90, 0.03,\n",
       "       0.89, 0.68, 0.05, 0.58, 0.96, 0.99, 0.04, 0.11, 0.96, 0.70, 0.02,\n",
       "       0.99, 0.73, 0.02, 0.99, 0.72, 0.03, 0.70, 1.00, 0.79, 0.55, 0.00,\n",
       "       0.98, 0.96, 0.06, 0.01, 0.90, 0.01, 0.62, 0.91, 1.00, 0.97, 0.30,\n",
       "       0.01, 0.20, 0.89, 0.60, 1.00, 0.75, 0.21, 0.35, 0.85, 0.09, 1.00,\n",
       "       0.01, 0.09, 1.00, 1.00, 0.80, 0.07, 0.89, 1.00, 0.13, 0.96, 0.09,\n",
       "       0.03, 0.05, 0.89, 0.93, 0.10, 0.85, 0.22, 0.88, 0.98, 1.00, 0.10,\n",
       "       0.48, 0.04, 0.36, 0.12, 0.43, 0.21, 0.92, 0.78, 0.46, 0.04, 0.99,\n",
       "       0.82, 0.95, 0.13, 0.02, 0.17, 0.79, 0.12, 0.61, 1.00, 0.17, 0.94,\n",
       "       0.03, 0.95, 0.18, 0.69, 0.05, 0.76, 0.07, 0.44, 0.79, 0.09, 0.83,\n",
       "       0.01, 0.03, 0.97, 0.03, 0.25, 0.06, 0.10, 0.07, 0.47, 0.01, 0.98,\n",
       "       0.71, 0.83, 0.05, 0.89, 0.05, 0.94, 0.93, 0.54, 0.95, 0.77, 0.96,\n",
       "       0.07, 0.88, 0.04, 0.04, 0.04, 0.03, 1.00, 0.33, 0.65, 1.00, 0.33,\n",
       "       1.00, 0.93, 0.99, 0.92, 0.00, 0.70, 0.98, 0.58, 0.96, 0.99, 0.63,\n",
       "       0.08, 1.00, 0.03, 0.03, 0.90, 0.74, 1.00, 0.91, 0.05, 0.86, 0.75,\n",
       "       0.00, 0.91, 0.97, 0.06, 0.98, 0.90, 0.04, 0.81, 0.06, 0.04, 0.54,\n",
       "       0.13, 0.40, 0.95, 0.02, 0.95, 0.22, 0.05, 1.00, 0.90, 0.68, 0.90,\n",
       "       0.87, 0.05, 0.08, 0.04, 0.99, 0.94, 0.32, 0.71, 0.06, 0.65, 0.70,\n",
       "       0.13, 0.75, 0.49, 0.05, 0.88, 0.05, 0.07, 0.98, 0.71, 1.00, 0.21,\n",
       "       0.24, 0.02, 0.20, 0.52, 0.96, 0.48, 0.04, 0.99, 0.01, 0.01, 0.19,\n",
       "       1.00, 0.36, 0.91, 0.43, 0.93, 0.74, 0.30, 0.17, 0.66, 0.90, 0.00,\n",
       "       0.64, 0.10, 0.99, 0.83, 0.21, 0.08, 0.85, 0.18, 0.88, 0.88, 0.81,\n",
       "       0.80, 0.70, 0.42, 0.98, 0.25, 0.02, 0.02, 0.01, 0.33, 0.12, 0.99,\n",
       "       0.04, 0.05, 0.09, 0.00, 1.00, 0.19, 0.94, 0.07, 0.78, 0.04, 0.62,\n",
       "       0.97, 0.57, 0.95, 0.04, 0.55, 1.00, 0.44, 0.47, 0.49, 0.05, 0.70,\n",
       "       0.84, 0.09, 0.05, 0.04, 0.04, 1.00, 0.64, 0.55, 0.98, 0.34, 0.17,\n",
       "       1.00, 0.55, 0.74, 0.47, 0.50, 0.08, 0.69, 0.00, 0.80, 0.13, 0.02,\n",
       "       1.00, 0.98, 0.81, 0.72, 0.99, 0.16, 0.51, 0.73, 0.20, 0.25, 0.03,\n",
       "       0.11, 0.11, 0.99, 0.34, 0.43, 0.98, 0.06, 0.51, 0.51, 0.87, 0.37,\n",
       "       0.81, 0.02, 0.92, 0.94, 0.59, 0.34, 0.24, 0.17, 1.00, 0.77, 0.99,\n",
       "       0.05])"
      ]
     },
     "execution_count": 17,
     "metadata": {},
     "output_type": "execute_result"
    }
   ],
   "source": [
    "np.set_printoptions(formatter={'float':lambda x:'{0:0.2f}'.format(x)})\n",
    "reg_res.predict()"
   ]
  },
  {
   "cell_type": "code",
   "execution_count": 18,
   "metadata": {},
   "outputs": [
    {
     "data": {
      "text/plain": [
       "array([[220.00, 39.00],\n",
       "       [31.00, 228.00]])"
      ]
     },
     "execution_count": 18,
     "metadata": {},
     "output_type": "execute_result"
    }
   ],
   "source": [
    "reg_res.pred_table()"
   ]
  },
  {
   "cell_type": "code",
   "execution_count": null,
   "metadata": {},
   "outputs": [],
   "source": []
  },
  {
   "cell_type": "code",
   "execution_count": null,
   "metadata": {},
   "outputs": [],
   "source": []
  }
 ],
 "metadata": {
  "kernelspec": {
   "display_name": "Python 3",
   "language": "python",
   "name": "python3"
  },
  "language_info": {
   "codemirror_mode": {
    "name": "ipython",
    "version": 3
   },
   "file_extension": ".py",
   "mimetype": "text/x-python",
   "name": "python",
   "nbconvert_exporter": "python",
   "pygments_lexer": "ipython3",
   "version": "3.7.4"
  }
 },
 "nbformat": 4,
 "nbformat_minor": 2
}
